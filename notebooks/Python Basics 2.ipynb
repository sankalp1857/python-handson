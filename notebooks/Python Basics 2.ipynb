{
 "cells": [
  {
   "cell_type": "markdown",
   "metadata": {},
   "source": [
    "### Map"
   ]
  },
  {
   "cell_type": "code",
   "execution_count": null,
   "metadata": {},
   "outputs": [],
   "source": []
  },
  {
   "cell_type": "markdown",
   "metadata": {},
   "source": [
    "### Filter\n"
   ]
  },
  {
   "cell_type": "markdown",
   "metadata": {},
   "source": [
    "The filter() method filters the given sequence with the help of a function that tests each element in the sequence to be true or not.\n",
    "\n",
    "```\n",
    "filter(function, sequence)\n",
    "```\n",
    "```\n",
    "Parameters:\n",
    "    function: function that tests if each element of a \n",
    "            sequence true or not.\n",
    "    sequence: sequence which needs to be filtered, it can \n",
    "            be sets, lists, tuples, or containers of any iterators.\n",
    "Returns:\n",
    "    returns an iterator that is already filtered.\n",
    "```"
   ]
  },
  {
   "cell_type": "code",
   "execution_count": 14,
   "metadata": {},
   "outputs": [
    {
     "name": "stdout",
     "output_type": "stream",
     "text": [
      "The filtered letters are:\n",
      "['e', 'e']\n"
     ]
    }
   ],
   "source": [
    "# function that filters vowels\n",
    "def is_vowel(variable):\n",
    "    \"\"\"\n",
    "    Check if varaible is vowel or not\n",
    "    \"\"\"\n",
    "    letters = ['a', 'e', 'i', 'o', 'u']\n",
    "    \n",
    "    if (variable in letters):\n",
    "        return True\n",
    "    else:\n",
    "        return False\n",
    "\n",
    "\n",
    "# sequence\n",
    "sequence = ['g', 'e', 'e', 'j', 'k', 's', 'p', 'r']\n",
    "\n",
    "# using filter function\n",
    "filtered = filter(is_vowel, sequence)\n",
    "\n",
    "print('The filtered letters are:')\n",
    "print(list(filtered))\n"
   ]
  },
  {
   "cell_type": "markdown",
   "metadata": {},
   "source": [
    "### Lambda Functions "
   ]
  },
  {
   "cell_type": "markdown",
   "metadata": {},
   "source": [
    "A lambda function is just like any normal python function, except that it has no name when defining it, and it is contained in one line of code.\n",
    "\n",
    "``` lambda argument(s): expression ```"
   ]
  },
  {
   "cell_type": "code",
   "execution_count": 2,
   "metadata": {},
   "outputs": [],
   "source": [
    "#Normal python function\n",
    "def square(x):\n",
    "    \"\"\"\n",
    "    Function to computer square of a given value\n",
    "    \"\"\"\n",
    "    return x**2\n",
    "\n",
    "\n",
    "#Lambda function\n",
    "square = lambda x: x**2"
   ]
  },
  {
   "cell_type": "markdown",
   "metadata": {},
   "source": [
    "#### Why use lambda function?\n",
    "* It can be used to declare small anonimus functions.\n",
    "* Faster executaion (minor).\n",
    "* Better code readibility.\n"
   ]
  },
  {
   "cell_type": "code",
   "execution_count": null,
   "metadata": {},
   "outputs": [],
   "source": []
  }
 ],
 "metadata": {
  "kernelspec": {
   "display_name": "Python 3",
   "language": "python",
   "name": "python3"
  },
  "language_info": {
   "codemirror_mode": {
    "name": "ipython",
    "version": 3
   },
   "file_extension": ".py",
   "mimetype": "text/x-python",
   "name": "python",
   "nbconvert_exporter": "python",
   "pygments_lexer": "ipython3",
   "version": "3.8.5"
  }
 },
 "nbformat": 4,
 "nbformat_minor": 2
}
